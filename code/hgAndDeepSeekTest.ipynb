{
 "cells": [
  {
   "cell_type": "code",
   "execution_count": null,
   "metadata": {},
   "outputs": [],
   "source": [
    "from langchain_community.document_loaders import PyPDFLoader, PyPDFDirectoryLoader\n",
    "from langchain.text_splitter import RecursiveCharacterTextSplitter\n",
    "from langchain_community.vectorstores import FAISS\n",
    "from langchain.embeddings import HuggingFaceBgeEmbeddings\n",
    "from langchain.prompts import PromptTemplate\n",
    "from langchain.chains import retrieval_qa\n",
    "\n"
   ]
  },
  {
   "cell_type": "code",
   "execution_count": 29,
   "metadata": {},
   "outputs": [
    {
     "data": {
      "text/plain": [
       "992"
      ]
     },
     "execution_count": 29,
     "metadata": {},
     "output_type": "execute_result"
    }
   ],
   "source": [
    "## Read the pdf from folder\n",
    "\n",
    "\n",
    "loader = PyPDFDirectoryLoader(\"../resource\")\n",
    "documents = loader.load()\n",
    "\n",
    "text_spliter = RecursiveCharacterTextSplitter(chunk_size = 1000, chunk_overlap = 200)\n",
    "final_doucment = text_spliter.split_documents(documents)\n",
    "final_doucment[0]\n",
    "\n",
    "len(final_doucment)"
   ]
  },
  {
   "cell_type": "code",
   "execution_count": 30,
   "metadata": {},
   "outputs": [],
   "source": [
    "## Embedding Using Huggingface\n",
    "huggingface_embeddings=HuggingFaceBgeEmbeddings(\n",
    "    model_name=\"BAAI/bge-small-en\",\n",
    "    model_kwargs={'device':'cpu'},\n",
    "    encode_kwargs={'normalize_embeddings':True}\n",
    ")"
   ]
  },
  {
   "cell_type": "code",
   "execution_count": 31,
   "metadata": {},
   "outputs": [
    {
     "name": "stdout",
     "output_type": "stream",
     "text": [
      "[-3.43656987e-02 -2.03952659e-03 -2.69677341e-02  1.49809057e-02\n",
      "  4.70807031e-02  1.82478167e-02  6.79858588e-03  9.49508743e-04\n",
      " -6.15613069e-03  3.33370129e-03  2.53311056e-03 -4.87901568e-02\n",
      "  3.55426148e-02  7.61935189e-02  3.68480831e-02  2.45391135e-03\n",
      "  5.29868947e-03  1.71135832e-02  3.45081240e-02  1.82932373e-02\n",
      " -1.09125571e-02 -3.15294079e-02 -4.81968094e-03 -2.03812961e-02\n",
      "  2.36594602e-02  1.36746112e-02 -3.20756622e-02 -5.13190255e-02\n",
      " -1.45690376e-02 -2.44941264e-01 -5.81144821e-04 -3.06262523e-02\n",
      "  4.30409685e-02  2.52099261e-02 -3.30108367e-02  2.10357728e-04\n",
      "  3.50887980e-03 -2.52560452e-02 -2.02201810e-02  1.17690088e-02\n",
      " -1.61355529e-02  4.49064337e-02  5.76283969e-02 -1.82244554e-02\n",
      " -1.31039890e-02  4.28786501e-03 -1.34173138e-02  2.36733016e-02\n",
      " -5.51092066e-02 -5.43326419e-03  2.16202009e-02 -1.80321597e-02\n",
      " -1.86149229e-03  5.40488176e-02 -3.24054547e-02  6.38962956e-03\n",
      "  1.76633652e-02  8.65062475e-02  2.13475581e-02  2.06081253e-02\n",
      "  6.10375330e-02  3.93398814e-02 -1.64589286e-01  3.52238864e-02\n",
      " -1.90831516e-02  3.77727710e-02 -1.43960342e-02 -2.54306234e-02\n",
      "  5.86358365e-03  7.52592608e-02  2.31630765e-02 -5.12980949e-03\n",
      " -9.50220565e-05  4.65097465e-02  2.78070830e-02  1.48182297e-02\n",
      "  8.11715797e-03  8.28663819e-03  2.25365050e-02  1.24555873e-02\n",
      "  2.36051413e-03 -2.67802086e-03  7.18044676e-03  2.30453182e-02\n",
      " -6.29852414e-02 -2.95087118e-02 -2.69283969e-02 -1.05915440e-03\n",
      "  3.99192737e-04 -3.68795693e-02  2.40168367e-02 -2.29848991e-03\n",
      "  1.72255393e-02  2.78665591e-02 -2.53301561e-02  1.77537128e-02\n",
      " -4.94181644e-03 -3.83658684e-03 -2.72490978e-02  5.79515338e-01\n",
      " -2.00542137e-02 -2.83890478e-02 -7.57961255e-03 -7.72027373e-02\n",
      "  1.58807579e-02 -4.63433079e-02 -6.24160236e-03 -3.40685435e-02\n",
      " -4.97734779e-03  2.02020705e-02 -2.51922905e-02 -2.43909936e-02\n",
      "  4.69190367e-02  2.42206436e-02  7.44683295e-03 -7.92229362e-03\n",
      "  1.22215748e-01  2.00273227e-02 -3.42195015e-03  7.86904059e-03\n",
      " -2.19914485e-02  2.98042055e-02  1.95022393e-02 -4.08705836e-03\n",
      "  1.90187693e-02 -5.12183830e-02 -4.27649298e-04  7.02659860e-02\n",
      " -1.34601090e-02 -5.69093414e-03  5.19974120e-02  8.41749739e-03\n",
      " -3.75445932e-02 -1.18706534e-02  4.75987606e-02 -1.07834823e-02\n",
      " -4.00024606e-03 -6.74193725e-02 -3.63176204e-02  7.28445966e-03\n",
      " -5.06592691e-02 -4.33409363e-02  5.93230948e-02 -3.54001783e-02\n",
      " -8.36061016e-02  6.36827201e-02 -2.28238590e-02 -1.38578359e-02\n",
      " -4.03569303e-02 -1.23840163e-03 -1.33401295e-02  2.14438122e-02\n",
      " -1.55818164e-02 -3.49259451e-02  1.53625235e-02  2.77585839e-03\n",
      "  4.67664488e-02  3.57695185e-02 -6.04170673e-02 -5.55032957e-03\n",
      " -4.34934944e-02 -1.89771280e-02 -4.96217944e-02  9.27475691e-02\n",
      " -1.02430498e-02 -9.88243818e-02 -4.87966556e-03  6.23208098e-03\n",
      "  1.57922078e-02 -5.22887036e-02  2.09985226e-02  1.48625905e-03\n",
      " -4.44548689e-02  1.21688070e-02  5.90934744e-03  1.51722431e-02\n",
      "  1.03144897e-02 -2.86352187e-02 -1.00702960e-02  1.86440703e-02\n",
      " -1.03365164e-02 -1.06750363e-02 -1.61141604e-02  1.95775162e-02\n",
      " -2.01303735e-02 -2.94764191e-02 -7.86058547e-04  8.83152802e-03\n",
      "  1.89133212e-02 -8.38166103e-03 -1.18937765e-04  4.12639007e-02\n",
      " -3.22478414e-02  1.56882424e-02 -3.53013836e-02 -5.41831143e-02\n",
      "  5.36960829e-03  2.15817075e-02 -1.66766066e-02  7.06934603e-03\n",
      " -3.94556522e-02  1.49438670e-02 -3.01398542e-02 -2.73455307e-02\n",
      " -2.76674870e-02 -2.04612836e-02  1.68682430e-02 -1.68617815e-03\n",
      "  3.12330890e-02  1.23412935e-02 -3.18510979e-02 -2.03765035e-02\n",
      " -2.54604239e-02 -6.16420340e-03 -3.52797210e-02  3.57541535e-03\n",
      "  1.45311449e-02 -1.87157304e-03  3.90305952e-03  3.45300511e-02\n",
      "  1.89302452e-02  7.89190829e-03 -3.35761309e-02 -2.27185071e-01\n",
      " -2.60001123e-02  4.25271178e-03  2.62782946e-02  2.34641768e-02\n",
      " -2.65789591e-02 -2.06588805e-02 -7.42992898e-03  3.94667424e-02\n",
      "  5.08495830e-02  3.43438797e-02  3.91956605e-02 -3.36489342e-02\n",
      " -7.79756997e-03  1.35966698e-02  6.43174956e-03  1.14091262e-02\n",
      " -5.52855607e-04 -2.17409674e-02 -4.19903779e-03  2.57853232e-02\n",
      "  2.30986103e-02 -3.66868153e-02 -1.04206637e-01  2.91507896e-02\n",
      "  1.77776273e-02  1.35847956e-01  3.95959355e-02  4.71136048e-02\n",
      " -5.22760535e-03  6.87888963e-03 -2.30401009e-02  4.48552798e-03\n",
      " -6.52508959e-02  4.51579876e-02  2.85563134e-02  2.33066287e-02\n",
      "  2.44800704e-05 -2.68420372e-02 -1.41114881e-02 -4.23263088e-02\n",
      "  1.43365469e-02 -4.19551097e-02 -8.46150964e-02 -2.95034386e-02\n",
      " -4.83446606e-02 -1.96016021e-02  2.67468905e-03  9.01804399e-03\n",
      "  2.00950354e-02  1.57654490e-02 -7.18049379e-03  2.90301703e-02\n",
      "  7.12568685e-03 -4.80900854e-02 -2.86413636e-02 -3.62537727e-02\n",
      "  1.31104491e-03 -3.44371088e-02  1.70038454e-02  7.09669665e-03\n",
      " -2.72438955e-02 -1.53312394e-02 -1.96157359e-02  5.44640571e-02\n",
      " -2.85925455e-02 -9.27731581e-03  6.32694038e-03  4.68406789e-02\n",
      "  6.27307920e-03 -9.34467465e-03  1.60072491e-01 -2.48733852e-02\n",
      "  5.49049154e-02  4.27987128e-02 -1.90157071e-02  3.61604989e-02\n",
      " -4.86313850e-02 -1.40207037e-02 -3.45896780e-02  5.72382845e-02\n",
      " -3.18694748e-02  7.10747465e-02 -1.59993079e-02 -1.29372943e-02\n",
      "  3.06374650e-03  3.97007503e-02  2.63057929e-02  2.10828930e-02\n",
      " -1.27214240e-02 -1.81246847e-02  4.57247254e-03 -1.22494781e-02\n",
      " -2.02780571e-02  2.56270152e-02  6.34303084e-03 -2.83834338e-01\n",
      " -2.04495713e-02 -1.87551901e-02  2.40753982e-02 -1.90034602e-02\n",
      " -1.53670888e-02  2.78217476e-02 -2.19045300e-02  1.70180146e-02\n",
      " -2.78998241e-02  1.51486294e-02  5.41742109e-02  2.87178382e-02\n",
      "  1.86862529e-03 -1.10828569e-02 -3.49885225e-03  3.99399512e-02\n",
      " -4.55999114e-02  3.21284123e-02  2.45341230e-02 -6.06941467e-04\n",
      "  1.13945398e-02  1.99787363e-01 -2.83877961e-02  2.41888110e-02\n",
      "  1.84757859e-02  5.98051846e-02 -1.81876626e-02  2.49254913e-03\n",
      " -5.54378703e-03 -2.22728048e-02  1.55286277e-02  5.27000912e-02\n",
      "  1.54778678e-02 -2.55351607e-03  4.08191197e-02 -2.98263002e-02\n",
      "  5.49382530e-02  1.03719030e-02 -2.15551667e-02 -3.64043936e-02\n",
      " -2.15015318e-02  1.59347765e-02  1.61628705e-02  2.51757968e-02\n",
      "  9.73888393e-03  9.24787484e-04 -3.82987559e-02 -8.41595232e-03\n",
      "  5.20821176e-02  2.78693903e-03  5.36320684e-03 -4.54243757e-02\n",
      " -8.06784909e-03  3.43676209e-02 -3.24786734e-03 -1.86390150e-02\n",
      " -2.57549081e-02 -6.59832824e-03 -4.78619114e-02 -6.03010319e-03\n",
      " -2.70930454e-02 -1.02775113e-03  1.38069754e-02  1.04623791e-02]\n",
      "(384,)\n"
     ]
    }
   ],
   "source": [
    "import  numpy as np\n",
    "print(np.array(huggingface_embeddings.embed_query(final_doucment[0].page_content)))\n",
    "print(np.array(huggingface_embeddings.embed_query(final_doucment[0].page_content)).shape)\n",
    "\n",
    "vectorstore=FAISS.from_documents(final_doucment[:120],huggingface_embeddings)"
   ]
  },
  {
   "cell_type": "code",
   "execution_count": 33,
   "metadata": {},
   "outputs": [
    {
     "name": "stdout",
     "output_type": "stream",
     "text": [
      "answer that determines the factual accuracy of the input query.\n",
      "Fig. 1 provides a high-level overview of TrumorGPT.\n",
      "A. Semantic Knowledge Graph\n",
      "A semantic knowledge graph is an effective mechanism\n",
      "for encapsulating knowledge in a format that is both struc-\n",
      "tured and interpretable by machines. This graph consists of\n",
      "vertices that symbolize entities and edges that represent the\n",
      "connections between them. The “semantic” aspect of the\n",
      "graph ensures that entities and their interrelations are based\n",
      "on meaningful, contextually relevant concepts, making them\n",
      "understandable to both machines and humans.\n",
      "We represent a semantic knowledge graph as a directed\n",
      "graph G = {E, R, F}, where E denotes the set of entities, R\n",
      "Authorized licensed use limited to: INDIAN INSTITUTE OF TECHNOLOGY ROORKEE. Downloaded on January 20,2025 at 07:01:29 UTC from IEEE Xplore.  Restrictions apply.\n"
     ]
    }
   ],
   "source": [
    "query=\"what is knowledge Graph?\"\n",
    "relevant_docments=vectorstore.similarity_search(query)\n",
    "\n",
    "print(relevant_docments[0].page_content)"
   ]
  },
  {
   "cell_type": "code",
   "execution_count": 34,
   "metadata": {},
   "outputs": [
    {
     "name": "stdout",
     "output_type": "stream",
     "text": [
      "tags=['FAISS', 'HuggingFaceBgeEmbeddings'] vectorstore=<langchain_community.vectorstores.faiss.FAISS object at 0x336907a10> search_kwargs={'k': 3}\n"
     ]
    }
   ],
   "source": [
    "retriever=vectorstore.as_retriever(search_type=\"similarity\",search_kwargs={\"k\":3})\n",
    "print(retriever)"
   ]
  },
  {
   "cell_type": "code",
   "execution_count": null,
   "metadata": {},
   "outputs": [],
   "source": [
    "import os\n",
    "os.environ['HUGGINGFACEHUB_API_TOKEN']=\"\""
   ]
  },
  {
   "cell_type": "code",
   "execution_count": null,
   "metadata": {},
   "outputs": [],
   "source": [
    "from langchain_community.llms import HuggingFaceHub\n",
    "\n",
    "hf=HuggingFaceHub(\n",
    "    repo_id=\"mistralai/Mistral-7B-v0.1\",\n",
    "    model_kwargs={\"temperature\":0.1,\"max_length\":500}\n",
    "\n",
    ")\n",
    "query=\"What is the health insurance coverage?\"\n",
    "hf.invoke(query)"
   ]
  },
  {
   "cell_type": "code",
   "execution_count": null,
   "metadata": {},
   "outputs": [],
   "source": [
    "from langchain_community.llms.huggingface_pipeline import HuggingFacePipeline\n",
    "\n",
    "hf = HuggingFacePipeline.from_model_id(\n",
    "    model_id=\"mistralai/Mistral-7B-v0.1\",\n",
    "    task=\"text-generation\",\n",
    "    pipeline_kwargs={\"temperature\": 0, \"max_new_tokens\": 300}\n",
    ")\n",
    "\n",
    "llm = hf \n",
    "llm.invoke(query)"
   ]
  },
  {
   "cell_type": "code",
   "execution_count": 35,
   "metadata": {},
   "outputs": [],
   "source": [
    "prompt_template=\"\"\"\n",
    "Use the following piece of context to answer the question asked.\n",
    "Please try to provide the answer only based on the context\n",
    "\n",
    "{context}\n",
    "Question:{question}\n",
    "\n",
    "Helpful Answers:\n",
    " \"\"\""
   ]
  },
  {
   "cell_type": "code",
   "execution_count": 36,
   "metadata": {},
   "outputs": [],
   "source": [
    "prompt=PromptTemplate(template=prompt_template,input_variables=[\"context\",\"question\"])"
   ]
  },
  {
   "cell_type": "code",
   "execution_count": 37,
   "metadata": {},
   "outputs": [
    {
     "ename": "AttributeError",
     "evalue": "module 'langchain.chains.retrieval_qa' has no attribute 'from_chain_type'",
     "output_type": "error",
     "traceback": [
      "\u001b[0;31m---------------------------------------------------------------------------\u001b[0m",
      "\u001b[0;31mAttributeError\u001b[0m                            Traceback (most recent call last)",
      "Cell \u001b[0;32mIn[37], line 1\u001b[0m\n\u001b[0;32m----> 1\u001b[0m retrievalQA\u001b[38;5;241m=\u001b[39m\u001b[43mretrieval_qa\u001b[49m\u001b[38;5;241;43m.\u001b[39;49m\u001b[43mfrom_chain_type\u001b[49m(\n\u001b[1;32m      2\u001b[0m     llm\u001b[38;5;241m=\u001b[39mhf,\n\u001b[1;32m      3\u001b[0m     chain_type\u001b[38;5;241m=\u001b[39m\u001b[38;5;124m\"\u001b[39m\u001b[38;5;124mstuff\u001b[39m\u001b[38;5;124m\"\u001b[39m,\n\u001b[1;32m      4\u001b[0m     retriever\u001b[38;5;241m=\u001b[39mretriever,\n\u001b[1;32m      5\u001b[0m     return_source_documents\u001b[38;5;241m=\u001b[39m\u001b[38;5;28;01mTrue\u001b[39;00m,\n\u001b[1;32m      6\u001b[0m     chain_type_kwargs\u001b[38;5;241m=\u001b[39m{\u001b[38;5;124m\"\u001b[39m\u001b[38;5;124mprompt\u001b[39m\u001b[38;5;124m\"\u001b[39m:prompt}\n\u001b[1;32m      7\u001b[0m )\n",
      "\u001b[0;31mAttributeError\u001b[0m: module 'langchain.chains.retrieval_qa' has no attribute 'from_chain_type'"
     ]
    }
   ],
   "source": [
    "retrievalQA=retrieval_qa.from_chain_type(\n",
    "    llm=hf,\n",
    "    chain_type=\"stuff\",\n",
    "    retriever=retriever,\n",
    "    return_source_documents=True,\n",
    "    chain_type_kwargs={\"prompt\":prompt}\n",
    ")"
   ]
  },
  {
   "cell_type": "code",
   "execution_count": null,
   "metadata": {},
   "outputs": [],
   "source": []
  }
 ],
 "metadata": {
  "kernelspec": {
   "display_name": "myenv",
   "language": "python",
   "name": "python3"
  },
  "language_info": {
   "codemirror_mode": {
    "name": "ipython",
    "version": 3
   },
   "file_extension": ".py",
   "mimetype": "text/x-python",
   "name": "python",
   "nbconvert_exporter": "python",
   "pygments_lexer": "ipython3",
   "version": "3.11.7"
  }
 },
 "nbformat": 4,
 "nbformat_minor": 2
}
